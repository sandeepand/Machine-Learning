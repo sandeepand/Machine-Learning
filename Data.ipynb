{
 "cells": [
  {
   "cell_type": "code",
   "execution_count": 10,
   "metadata": {},
   "outputs": [],
   "source": [
    "import pandas as pd\n",
    "df=pd.read_csv('data.csv')"
   ]
  },
  {
   "cell_type": "code",
   "execution_count": 11,
   "metadata": {},
   "outputs": [
    {
     "data": {
      "text/html": [
       "<div>\n",
       "<style scoped>\n",
       "    .dataframe tbody tr th:only-of-type {\n",
       "        vertical-align: middle;\n",
       "    }\n",
       "\n",
       "    .dataframe tbody tr th {\n",
       "        vertical-align: top;\n",
       "    }\n",
       "\n",
       "    .dataframe thead th {\n",
       "        text-align: right;\n",
       "    }\n",
       "</style>\n",
       "<table border=\"1\" class=\"dataframe\">\n",
       "  <thead>\n",
       "    <tr style=\"text-align: right;\">\n",
       "      <th></th>\n",
       "      <th>Date</th>\n",
       "      <th>Time</th>\n",
       "      <th>Event</th>\n",
       "      <th>email</th>\n",
       "    </tr>\n",
       "  </thead>\n",
       "  <tbody>\n",
       "    <tr>\n",
       "      <th>0</th>\n",
       "      <td>12/15/2018</td>\n",
       "      <td>6:55:41</td>\n",
       "      <td>abc</td>\n",
       "      <td>kp</td>\n",
       "    </tr>\n",
       "    <tr>\n",
       "      <th>1</th>\n",
       "      <td>12/15/2018</td>\n",
       "      <td>13:36:39</td>\n",
       "      <td>def</td>\n",
       "      <td>pk</td>\n",
       "    </tr>\n",
       "    <tr>\n",
       "      <th>2</th>\n",
       "      <td>12/15/2018</td>\n",
       "      <td>14.21:56</td>\n",
       "      <td>com</td>\n",
       "      <td>lr</td>\n",
       "    </tr>\n",
       "    <tr>\n",
       "      <th>3</th>\n",
       "      <td>12/16/2018</td>\n",
       "      <td>2:29:30</td>\n",
       "      <td>pil</td>\n",
       "      <td>rm</td>\n",
       "    </tr>\n",
       "    <tr>\n",
       "      <th>4</th>\n",
       "      <td>12/16/2018</td>\n",
       "      <td>20:22:20</td>\n",
       "      <td>ati</td>\n",
       "      <td>as</td>\n",
       "    </tr>\n",
       "    <tr>\n",
       "      <th>5</th>\n",
       "      <td>12/15/2018</td>\n",
       "      <td>2:29:40</td>\n",
       "      <td>iti</td>\n",
       "      <td>ap</td>\n",
       "    </tr>\n",
       "    <tr>\n",
       "      <th>6</th>\n",
       "      <td>12/15/2018</td>\n",
       "      <td>2:29:30</td>\n",
       "      <td>esz</td>\n",
       "      <td>pg</td>\n",
       "    </tr>\n",
       "    <tr>\n",
       "      <th>7</th>\n",
       "      <td>12/15/2018</td>\n",
       "      <td>2:29:50</td>\n",
       "      <td>iti</td>\n",
       "      <td>ap</td>\n",
       "    </tr>\n",
       "    <tr>\n",
       "      <th>8</th>\n",
       "      <td>12/15/2018</td>\n",
       "      <td>9:04:03</td>\n",
       "      <td>ono</td>\n",
       "      <td>ar</td>\n",
       "    </tr>\n",
       "    <tr>\n",
       "      <th>9</th>\n",
       "      <td>12/15/2018</td>\n",
       "      <td>9:35:04</td>\n",
       "      <td>fac</td>\n",
       "      <td>sdh</td>\n",
       "    </tr>\n",
       "  </tbody>\n",
       "</table>\n",
       "</div>"
      ],
      "text/plain": [
       "         Date      Time Event email\n",
       "0  12/15/2018   6:55:41   abc    kp\n",
       "1  12/15/2018  13:36:39   def    pk\n",
       "2  12/15/2018  14.21:56   com    lr\n",
       "3  12/16/2018   2:29:30   pil    rm\n",
       "4  12/16/2018  20:22:20   ati    as\n",
       "5  12/15/2018   2:29:40   iti    ap\n",
       "6  12/15/2018   2:29:30   esz    pg\n",
       "7  12/15/2018   2:29:50   iti    ap\n",
       "8  12/15/2018   9:04:03   ono    ar\n",
       "9  12/15/2018   9:35:04   fac   sdh"
      ]
     },
     "execution_count": 11,
     "metadata": {},
     "output_type": "execute_result"
    }
   ],
   "source": [
    "df"
   ]
  },
  {
   "cell_type": "code",
   "execution_count": 13,
   "metadata": {},
   "outputs": [],
   "source": [
    "df1 = pd.DataFrame([' '.join([x,y]) for x, y in zip(df['Date'],df['Time'])])\n",
    "df1.columns = ['DateTime']\n",
    "df1['DateTime'] = pd.to_datetime(df1['DateTime'])"
   ]
  },
  {
   "cell_type": "code",
   "execution_count": 14,
   "metadata": {},
   "outputs": [],
   "source": [
    "df = df.join(df1)\n",
    "df.set_index('DateTime', inplace=True)"
   ]
  },
  {
   "cell_type": "code",
   "execution_count": 15,
   "metadata": {},
   "outputs": [],
   "source": [
    "outdf = df.resample('30S')['Event'].unique().to_frame()\n",
    "outdf.columns = ['Events']\n",
    "outdf = outdf.loc[outdf['Events'].apply(lambda x: len(x) > 0)]"
   ]
  },
  {
   "cell_type": "code",
   "execution_count": 18,
   "metadata": {},
   "outputs": [
    {
     "data": {
      "text/html": [
       "<div>\n",
       "<style scoped>\n",
       "    .dataframe tbody tr th:only-of-type {\n",
       "        vertical-align: middle;\n",
       "    }\n",
       "\n",
       "    .dataframe tbody tr th {\n",
       "        vertical-align: top;\n",
       "    }\n",
       "\n",
       "    .dataframe thead th {\n",
       "        text-align: right;\n",
       "    }\n",
       "</style>\n",
       "<table border=\"1\" class=\"dataframe\">\n",
       "  <thead>\n",
       "    <tr style=\"text-align: right;\">\n",
       "      <th></th>\n",
       "      <th>Events</th>\n",
       "    </tr>\n",
       "    <tr>\n",
       "      <th>DateTime</th>\n",
       "      <th></th>\n",
       "    </tr>\n",
       "  </thead>\n",
       "  <tbody>\n",
       "    <tr>\n",
       "      <th>2018-12-15 02:29:30</th>\n",
       "      <td>esz</td>\n",
       "    </tr>\n",
       "    <tr>\n",
       "      <th>2018-12-15 02:29:30</th>\n",
       "      <td>iti</td>\n",
       "    </tr>\n",
       "    <tr>\n",
       "      <th>2018-12-15 06:55:30</th>\n",
       "      <td>abc</td>\n",
       "    </tr>\n",
       "    <tr>\n",
       "      <th>2018-12-15 09:04:00</th>\n",
       "      <td>ono</td>\n",
       "    </tr>\n",
       "    <tr>\n",
       "      <th>2018-12-15 09:35:00</th>\n",
       "      <td>fac</td>\n",
       "    </tr>\n",
       "    <tr>\n",
       "      <th>2018-12-15 13:36:30</th>\n",
       "      <td>def</td>\n",
       "    </tr>\n",
       "    <tr>\n",
       "      <th>2018-12-15 14:56:00</th>\n",
       "      <td>com</td>\n",
       "    </tr>\n",
       "    <tr>\n",
       "      <th>2018-12-16 02:29:30</th>\n",
       "      <td>pil</td>\n",
       "    </tr>\n",
       "    <tr>\n",
       "      <th>2018-12-16 20:22:00</th>\n",
       "      <td>ati</td>\n",
       "    </tr>\n",
       "  </tbody>\n",
       "</table>\n",
       "</div>"
      ],
      "text/plain": [
       "                    Events\n",
       "DateTime                  \n",
       "2018-12-15 02:29:30    esz\n",
       "2018-12-15 02:29:30    iti\n",
       "2018-12-15 06:55:30    abc\n",
       "2018-12-15 09:04:00    ono\n",
       "2018-12-15 09:35:00    fac\n",
       "2018-12-15 13:36:30    def\n",
       "2018-12-15 14:56:00    com\n",
       "2018-12-16 02:29:30    pil\n",
       "2018-12-16 20:22:00    ati"
      ]
     },
     "execution_count": 18,
     "metadata": {},
     "output_type": "execute_result"
    }
   ],
   "source": [
    "outdf['Events'].apply(pd.Series).stack().reset_index(level=1, drop=True).to_frame('Events')"
   ]
  },
  {
   "cell_type": "code",
   "execution_count": null,
   "metadata": {},
   "outputs": [],
   "source": []
  },
  {
   "cell_type": "code",
   "execution_count": null,
   "metadata": {},
   "outputs": [],
   "source": []
  },
  {
   "cell_type": "code",
   "execution_count": null,
   "metadata": {},
   "outputs": [],
   "source": []
  }
 ],
 "metadata": {
  "kernelspec": {
   "display_name": "Python 3",
   "language": "python",
   "name": "python3"
  },
  "language_info": {
   "codemirror_mode": {
    "name": "ipython",
    "version": 3
   },
   "file_extension": ".py",
   "mimetype": "text/x-python",
   "name": "python",
   "nbconvert_exporter": "python",
   "pygments_lexer": "ipython3",
   "version": "3.6.5"
  }
 },
 "nbformat": 4,
 "nbformat_minor": 2
}
